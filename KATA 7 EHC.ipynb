{
 "cells": [
  {
   "cell_type": "markdown",
   "metadata": {},
   "source": [
    "# KATA 7 CICLOS WHILE & FOR EDGAR HC"
   ]
  },
  {
   "cell_type": "markdown",
   "metadata": {},
   "source": [
    "EJERCICIO 1 USO DE CICLOS WHILE"
   ]
  },
  {
   "cell_type": "code",
   "execution_count": 8,
   "metadata": {},
   "outputs": [
    {
     "name": "stdout",
     "output_type": "stream",
     "text": [
      "[' ']\n",
      "[' ', 'mercurio']\n",
      "[' ', 'mercurio', 'venus']\n",
      "[' ', 'mercurio', 'venus', 'tierra']\n",
      "[' ', 'mercurio', 'venus', 'tierra', 'marte']\n",
      "[' ', 'mercurio', 'venus', 'tierra', 'marte', 'jupiter']\n",
      "[' ', 'mercurio', 'venus', 'tierra', 'marte', 'jupiter', 'saturno']\n",
      "[' ', 'mercurio', 'venus', 'tierra', 'marte', 'jupiter', 'saturno', 'urano']\n"
     ]
    }
   ],
   "source": [
    "planeta_nuevo = ' '\n",
    "planetas = []\n",
    "\n",
    "while planeta_nuevo.lower() != 'hecho':\n",
    "    if planeta_nuevo: \n",
    "        planetas.append(planeta_nuevo)\n",
    "    planeta_nuevo = input('Capture un planeta nuevo:')\n",
    "    print (planetas)"
   ]
  },
  {
   "cell_type": "markdown",
   "metadata": {},
   "source": [
    "EJERCICIO 2"
   ]
  },
  {
   "cell_type": "code",
   "execution_count": 14,
   "metadata": {},
   "outputs": [
    {
     "name": "stdout",
     "output_type": "stream",
     "text": [
      "[' ']\n",
      "[' ', 'venus']\n",
      "[' ', 'venus', 'mercurio']\n",
      "[' ', 'venus', 'mercurio', 'tierra']\n",
      "[' ', 'venus', 'mercurio', 'tierra', 'marte']\n",
      "[' ', 'venus', 'mercurio', 'tierra', 'marte']\n",
      "[' ', 'venus', 'mercurio', 'tierra', 'marte']\n",
      "[' ', 'venus', 'mercurio', 'tierra', 'marte']\n",
      "[' ', 'venus', 'mercurio', 'tierra', 'marte']\n",
      "[' ', 'venus', 'mercurio', 'tierra', 'marte']\n"
     ]
    }
   ],
   "source": [
    "planeta_nuevo = ' '\n",
    "planetas = []\n",
    "\n",
    "while planeta_nuevo.lower() != 'hecho':\n",
    "    if planeta_nuevo: \n",
    "        planetas.append(planeta_nuevo)\n",
    "    planeta_nuevo = input('Capture un planeta nuevo:')\n",
    "    print (planetas)\n",
    "for planes in planetas:\n",
    "    print(planetas)"
   ]
  }
 ],
 "metadata": {
  "interpreter": {
   "hash": "e82f723312cb0bcb7a216db8711677d52ea8747022e2d44384ae9d4ca8178971"
  },
  "kernelspec": {
   "display_name": "Python 3.10.2 64-bit",
   "language": "python",
   "name": "python3"
  },
  "language_info": {
   "codemirror_mode": {
    "name": "ipython",
    "version": 3
   },
   "file_extension": ".py",
   "mimetype": "text/x-python",
   "name": "python",
   "nbconvert_exporter": "python",
   "pygments_lexer": "ipython3",
   "version": "3.10.2"
  },
  "orig_nbformat": 4
 },
 "nbformat": 4,
 "nbformat_minor": 2
}
