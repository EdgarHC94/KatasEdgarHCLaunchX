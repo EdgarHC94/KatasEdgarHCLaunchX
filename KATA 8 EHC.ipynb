{
 "cells": [
  {
   "cell_type": "markdown",
   "metadata": {},
   "source": [
    "# KTA 8 DICCIONARIOS DE PYTHON EHC"
   ]
  },
  {
   "cell_type": "markdown",
   "metadata": {},
   "source": [
    "EJERCICIO 1"
   ]
  },
  {
   "cell_type": "code",
   "execution_count": 50,
   "metadata": {},
   "outputs": [
    {
     "name": "stdout",
     "output_type": "stream",
     "text": [
      "El planeta marte tiene 2 lunas.\n",
      "Y su circunferencia polar es 6752\n"
     ]
    }
   ],
   "source": [
    "planeta = {\n",
    "    'nombre': 'marte',\n",
    "    'lunas': 2\n",
    "}\n",
    "\n",
    "print('El planeta', planeta.get('nombre'),'tiene', planeta.get('lunas'), 'lunas.')\n",
    "\n",
    "planeta['circunferencia (km)'] = {\n",
    "    'polar':6752,\n",
    "    'equatorial': 6792\n",
    "}\n",
    "\n",
    "print('Y su circunferencia polar es', planeta['circunferencia (km)']['polar'])\n",
    "\n"
   ]
  },
  {
   "cell_type": "markdown",
   "metadata": {},
   "source": [
    "EJERCICIO 2"
   ]
  },
  {
   "cell_type": "code",
   "execution_count": 65,
   "metadata": {},
   "outputs": [
    {
     "name": "stdout",
     "output_type": "stream",
     "text": [
      "La suma de las lunas en todos los planetas es: 212 \n",
      " Las lunas promedio son: 19.272727272727273 \n",
      " Y el total de planetas es 11\n"
     ]
    }
   ],
   "source": [
    "lunas_de_planetas = {\n",
    "    'mercurio': 0,\n",
    "    'venus': 0,\n",
    "    'tierra': 1, \n",
    "    'jupiter': 79,\n",
    "    'saturno': 82,\n",
    "    'urano': 27,\n",
    "    'neptuno': 14,\n",
    "    'pluton': 5, \n",
    "    'haumea': 2, \n",
    "    'makemake': 1,\n",
    "    'eris': 1\n",
    "}\n",
    "\n",
    "lunas = lunas_de_planetas.values()\n",
    "\n",
    "planetas = len(lunas_de_planetas.keys())\n",
    "\n",
    "Lunas_totales = 0\n",
    "for lunas in lunas: \n",
    "    Lunas_totales = Lunas_totales+lunas\n",
    "\n",
    "lunas_promedio = Lunas_totales / planetas\n",
    "\n",
    "print(\"La suma de las lunas en todos los planetas es:\", Lunas_totales, '\\n',\"Las lunas promedio son:\", lunas_promedio,\"\\n\", \"Y el total de planetas es\", planetas  )"
   ]
  }
 ],
 "metadata": {
  "interpreter": {
   "hash": "e82f723312cb0bcb7a216db8711677d52ea8747022e2d44384ae9d4ca8178971"
  },
  "kernelspec": {
   "display_name": "Python 3.10.2 64-bit",
   "language": "python",
   "name": "python3"
  },
  "language_info": {
   "codemirror_mode": {
    "name": "ipython",
    "version": 3
   },
   "file_extension": ".py",
   "mimetype": "text/x-python",
   "name": "python",
   "nbconvert_exporter": "python",
   "pygments_lexer": "ipython3",
   "version": "3.10.2"
  },
  "orig_nbformat": 4
 },
 "nbformat": 4,
 "nbformat_minor": 2
}
