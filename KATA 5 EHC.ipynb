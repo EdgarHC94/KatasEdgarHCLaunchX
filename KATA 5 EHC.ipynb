{
 "cells": [
  {
   "cell_type": "markdown",
   "metadata": {},
   "source": [
    "# OPERADORES ARITMÉTICOS"
   ]
  },
  {
   "cell_type": "code",
   "execution_count": 3,
   "metadata": {},
   "outputs": [
    {
     "name": "stdout",
     "output_type": "stream",
     "text": [
      "390577533.93\n"
     ]
    }
   ],
   "source": [
    "#EJERCICIO 1\n",
    "Tierra = 149597870 #km\n",
    "Jupiter = 778547200 #km\n",
    "\n",
    "Resultado = (Jupiter - Tierra)*0.621\n",
    "print(Resultado)"
   ]
  },
  {
   "cell_type": "code",
   "execution_count": 5,
   "metadata": {},
   "outputs": [
    {
     "name": "stdout",
     "output_type": "stream",
     "text": [
      "5 en KM\n",
      "3.105\n"
     ]
    }
   ],
   "source": [
    "#EJERCICIO 2\n",
    "Planeta1 = input('Capture la distancia del sol al 1er planeta')\n",
    "Planeta2 = input('Capture la distancia del sol al 2do planeta')\n",
    "\n",
    "Planeta1=int(Planeta1)\n",
    "Planeta2=int(Planeta2)\n",
    "\n",
    "distancia= Planeta1 - Planeta2\n",
    "print(distancia, 'en KM')\n",
    "\n",
    "Millas_distancia = distancia*0.621\n",
    "print(Millas_distancia)"
   ]
  }
 ],
 "metadata": {
  "interpreter": {
   "hash": "e82f723312cb0bcb7a216db8711677d52ea8747022e2d44384ae9d4ca8178971"
  },
  "kernelspec": {
   "display_name": "Python 3.10.2 64-bit",
   "language": "python",
   "name": "python3"
  },
  "language_info": {
   "codemirror_mode": {
    "name": "ipython",
    "version": 3
   },
   "file_extension": ".py",
   "mimetype": "text/x-python",
   "name": "python",
   "nbconvert_exporter": "python",
   "pygments_lexer": "ipython3",
   "version": "3.10.2"
  },
  "orig_nbformat": 4
 },
 "nbformat": 4,
 "nbformat_minor": 2
}
