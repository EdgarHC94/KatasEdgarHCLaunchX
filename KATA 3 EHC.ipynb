{
 "cells": [
  {
   "cell_type": "markdown",
   "metadata": {},
   "source": [
    "# Escribir declaraciones con IF-ELSE /EHC"
   ]
  },
  {
   "cell_type": "code",
   "execution_count": 24,
   "metadata": {},
   "outputs": [
    {
     "name": "stdout",
     "output_type": "stream",
     "text": [
      "baja la velocidad\n"
     ]
    }
   ],
   "source": [
    "# EJERCICIO 1\n",
    "# Añadir el código necesario para crear una variable que guarde la velocidad del asteroide.\n",
    "# Escribe una expresión de prueba para calcular si necesita una advertencia.\n",
    "# Agregue las instrucciones que se ejecutarán si la expresión de prueba es true o false.\n",
    "\n",
    "asteroide = 45\n",
    "if asteroide > 25:\n",
    "    print ('baja la velocidad')\n",
    "else:\n",
    "    print('Continua tu viaje')\n"
   ]
  },
  {
   "cell_type": "code",
   "execution_count": 30,
   "metadata": {},
   "outputs": [
    {
     "name": "stdout",
     "output_type": "stream",
     "text": [
      "no puedes ver el destello\n"
     ]
    }
   ],
   "source": [
    "#EJERCICIO 2\n",
    "#  Agrega el código para crear una variable para un asteroide que viaja a 19 km/s\n",
    "# Escribe varias expresiones de prueba para determinar si puedes ver el rayo de luz desde la tierra\n",
    "# Agrega las instrucciones que se ejecutarán si las expresiones de prueba son True o False\n",
    "\n",
    "asteroide = 19\n",
    "\n",
    "if asteroide < 20:\n",
    "    print('no puedes ver el destello')\n",
    "elif asteroide == 20: \n",
    "    print('Podría ver un destello')\n",
    "else:\n",
    "    print ('Puedes ver el destello')\n"
   ]
  },
  {
   "cell_type": "code",
   "execution_count": 48,
   "metadata": {},
   "outputs": [
    {
     "name": "stdout",
     "output_type": "stream",
     "text": [
      "Cuidado, un asteoride se acerca\n"
     ]
    }
   ],
   "source": [
    "# EJERCICIO 3\n",
    "# Agrega el código para crear nuevas variables para la velocidad y el tamaño del asteroide\n",
    "# Para probar el código, prueba con varias velocidades y tamaños\n",
    "# Escribe varias expresiones de prueba o combinaciones de expresiones de prueba para determinar qué mensaje se debe enviar a Tierra.\n",
    "\n",
    "velocidad_del_asteoride = 30\n",
    "tamanio_del_asteroide = 40\n",
    "\n",
    "if velocidad_del_asteoride > 25 and tamanio_del_asteroide > 25:\n",
    "    print('Cuidado, un asteoride se acerca')\n",
    "elif velocidad_del_asteoride >= 20: \n",
    "    print('Puedes obervar el destello del asteoride')\n",
    "elif tamanio_del_asteroide <25: \n",
    "    print ('no hay peligro')\n",
    "else: \n",
    "    print('estamos a salvo')"
   ]
  }
 ],
 "metadata": {
  "interpreter": {
   "hash": "e82f723312cb0bcb7a216db8711677d52ea8747022e2d44384ae9d4ca8178971"
  },
  "kernelspec": {
   "display_name": "Python 3.10.2 64-bit",
   "language": "python",
   "name": "python3"
  },
  "language_info": {
   "codemirror_mode": {
    "name": "ipython",
    "version": 3
   },
   "file_extension": ".py",
   "mimetype": "text/x-python",
   "name": "python",
   "nbconvert_exporter": "python",
   "pygments_lexer": "ipython3",
   "version": "3.10.2"
  },
  "orig_nbformat": 4
 },
 "nbformat": 4,
 "nbformat_minor": 2
}
